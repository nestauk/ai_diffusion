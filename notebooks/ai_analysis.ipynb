{
 "cells": [
  {
   "cell_type": "markdown",
   "metadata": {},
   "source": [
    "# Quick analysis of international flows of 'AI skills' globally\n",
    "\n",
    "We use LinkedIn data available [here](https://datacatalog.worldbank.org/dataset/world-bank-group-linkedin-dashboard-dataset#tab2) to analyse inwards and outwards flows of 'artificial intelligence' related skills."
   ]
  },
  {
   "cell_type": "markdown",
   "metadata": {},
   "source": [
    "## Preamble"
   ]
  },
  {
   "cell_type": "code",
   "execution_count": null,
   "metadata": {},
   "outputs": [],
   "source": [
    "%matplotlib inline\n",
    "import matplotlib.pyplot as plt\n",
    "import pandas as pd\n",
    "\n",
    "plt.rc('font', family = 'serif',serif='Times New Roman') \n"
   ]
  },
  {
   "cell_type": "markdown",
   "metadata": {},
   "source": [
    "## Download the data"
   ]
  },
  {
   "cell_type": "code",
   "execution_count": null,
   "metadata": {},
   "outputs": [],
   "source": [
    "li = pd.read_excel('https://development-data-hub-s3-public.s3.amazonaws.com/ddhfiles/144635/public_use-talent-migration.xlsx',sheet_name='Skill Migration')"
   ]
  },
  {
   "cell_type": "markdown",
   "metadata": {},
   "source": [
    "## Process and explore"
   ]
  },
  {
   "cell_type": "code",
   "execution_count": null,
   "metadata": {},
   "outputs": [],
   "source": [
    "li.shape"
   ]
  },
  {
   "cell_type": "code",
   "execution_count": null,
   "metadata": {},
   "outputs": [],
   "source": [
    "li.columns"
   ]
  },
  {
   "cell_type": "code",
   "execution_count": null,
   "metadata": {},
   "outputs": [],
   "source": [
    "len(set(li.country_name))"
   ]
  },
  {
   "cell_type": "code",
   "execution_count": null,
   "metadata": {},
   "outputs": [],
   "source": [
    "li.skill_group_name.value_counts().head()"
   ]
  },
  {
   "cell_type": "markdown",
   "metadata": {},
   "source": [
    "These skills appear for al countries"
   ]
  },
  {
   "cell_type": "markdown",
   "metadata": {},
   "source": [
    "According to the methodology, data are only available for skills groups with more than 50 'transitions' in a country. \n",
    "This means that countries with more activity will have more skills groups. They seem to have applied a threshold that focuses on the top 250 skill a"
   ]
  },
  {
   "cell_type": "code",
   "execution_count": null,
   "metadata": {},
   "outputs": [],
   "source": [
    "country_freqs =li.groupby(['country_name'])['skill_group_name'].size()\n",
    "\n",
    "plt.hist(country_freqs)"
   ]
  },
  {
   "cell_type": "markdown",
   "metadata": {},
   "source": [
    "We will focus analysis on the top 25 countries by activity. They are:\n",
    "\n",
    "\n"
   ]
  },
  {
   "cell_type": "code",
   "execution_count": null,
   "metadata": {},
   "outputs": [],
   "source": [
    "big_countries = country_freqs.sort_values(ascending=False)[:30].index\n",
    "\n",
    "big_countries"
   ]
  },
  {
   "cell_type": "markdown",
   "metadata": {},
   "source": [
    "It's interesting to note the presence of Arabiann countries such as UAE and Saudi Arabia - perhaps this is picking up worker flows?"
   ]
  },
  {
   "cell_type": "code",
   "execution_count": null,
   "metadata": {},
   "outputs": [],
   "source": [
    "li_big = li.loc[[x in big_countries for x in li['country_name']]].reset_index(drop=True)\n",
    "\n",
    "li_big.shape"
   ]
  },
  {
   "cell_type": "markdown",
   "metadata": {},
   "source": [
    "#### Let's find AI skills"
   ]
  },
  {
   "cell_type": "markdown",
   "metadata": {},
   "source": [
    "A visual inspection of the data suggests these are the most 'Ai-related' skills. It would be interested to identify them in a more data-driven way"
   ]
  },
  {
   "cell_type": "code",
   "execution_count": null,
   "metadata": {},
   "outputs": [],
   "source": [
    "ai_skills = ['Data Science','Artificial Intelligence','Natural Language Processing','Data-driven Decision Making','Robotics']"
   ]
  },
  {
   "cell_type": "code",
   "execution_count": null,
   "metadata": {},
   "outputs": [],
   "source": [
    "li_big['ai_skills'] = [x in ai_skills for x in li_big.skill_group_name]"
   ]
  },
  {
   "cell_type": "code",
   "execution_count": null,
   "metadata": {},
   "outputs": [],
   "source": [
    "ai_trends = pd.concat([li_big.loc[li_big['ai_skills']==True].groupby('country_name')[var].mean() for var in ['net_per_10K_2015','net_per_10K_2018']],axis=1)\n",
    "\n",
    "ai_trends"
   ]
  },
  {
   "cell_type": "code",
   "execution_count": null,
   "metadata": {},
   "outputs": [],
   "source": [
    "fig,ax = plt.subplots(figsize=(10,5))\n",
    "\n",
    "ai_trends.sort_values('net_per_10K_2018',ascending=False).plot.bar(ax=ax)\n",
    "ax.grid(linestyle=':',color='grey')\n",
    "\n",
    "# Don't allow the axis to be on top of your data\n",
    "ax.set_axisbelow(True)\n",
    "\n",
    "ax.set_xticklabels(ax.get_xticklabels(),rotation=45,ha='right')\n",
    "ax.set_xlabel('')\n",
    "ax.set_ylabel('Net gain / loss of professionals \\n with AI skills per 10,000')\n",
    "\n",
    "ax.legend(['2015','2018'],title='Year')\n",
    "ax.set_title('Global flows of AI skills 2015-2018 (LinkedIn & World Bank, 2019)')\n",
    "\n",
    "plt.tight_layout()\n",
    "\n",
    "plt.savefig('ai_figure.pdf')"
   ]
  },
  {
   "cell_type": "code",
   "execution_count": null,
   "metadata": {},
   "outputs": [],
   "source": []
  }
 ],
 "metadata": {
  "language_info": {
   "name": "python",
   "pygments_lexer": "ipython3"
  }
 },
 "nbformat": 4,
 "nbformat_minor": 2
}
